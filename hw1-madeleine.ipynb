{
 "cells": [
  {
   "cell_type": "code",
   "execution_count": 34,
   "metadata": {},
   "outputs": [],
   "source": [
    "## Homework Week 1"
   ]
  },
  {
   "cell_type": "code",
   "execution_count": 35,
   "metadata": {},
   "outputs": [],
   "source": [
    "## Problem 1\n",
    "# Write a function  *count_vowels(word)* that takes a word as an argument and returns the number of vowels in the word"
   ]
  },
  {
   "cell_type": "code",
   "execution_count": 36,
   "metadata": {},
   "outputs": [
    {
     "name": "stdout",
     "output_type": "stream",
     "text": [
      "Number of vowels: 1\n"
     ]
    }
   ],
   "source": [
    "## Solution to Problem 1\n",
    "def count_vowels(s):\n",
    "    vowels = \"aeiouAEIOU\"  # List of vowels (lowercase and uppercase)\n",
    "    sum = 0\n",
    "    for char in s:\n",
    "        if char in vowels:\n",
    "            sum += 1\n",
    "    return sum\n",
    "word = \"cat\"\n",
    "print(\"Number of vowels:\", count_vowels(word))"
   ]
  },
  {
   "cell_type": "code",
   "execution_count": 37,
   "metadata": {},
   "outputs": [],
   "source": [
    "## Problem 2\n",
    "#Iterate through the following list of animals and print each one in all caps.\n",
    "\n",
    "  #animals=['tiger', 'elephant', 'monkey', 'zebra', 'panther']"
   ]
  },
  {
   "cell_type": "code",
   "execution_count": 38,
   "metadata": {},
   "outputs": [
    {
     "name": "stdout",
     "output_type": "stream",
     "text": [
      "Tiger\n",
      "Elephant\n",
      "Monkey\n",
      "Zebra\n",
      "Panther\n"
     ]
    }
   ],
   "source": [
    "## Solution to Problem 2\n",
    "animals = ['tiger', 'elephant', 'monkey', 'zebra', 'panther']\n",
    "for a in animals:\n",
    "    print(a.capitalize())\n"
   ]
  },
  {
   "cell_type": "code",
   "execution_count": null,
   "metadata": {},
   "outputs": [],
   "source": []
  },
  {
   "cell_type": "code",
   "execution_count": 39,
   "metadata": {},
   "outputs": [
    {
     "name": "stdout",
     "output_type": "stream",
     "text": [
      "even\n",
      "odd\n",
      "even\n",
      "odd\n",
      "even\n",
      "odd\n",
      "even\n",
      "odd\n",
      "even\n",
      "odd\n",
      "even\n",
      "odd\n",
      "even\n",
      "odd\n",
      "even\n",
      "odd\n",
      "even\n",
      "odd\n",
      "even\n",
      "odd\n",
      "even\n"
     ]
    }
   ],
   "source": [
    "## Problem 3\n",
    "# Write a program that iterates from 1 to 20, \n",
    "# printing each number and whether it's odd or even.\n",
    "\n",
    "for i in range (0,21):\n",
    "    if i%2 == 0:\n",
    "        print (\"even\")\n",
    "    else:\n",
    "        print (\"odd\")"
   ]
  },
  {
   "cell_type": "code",
   "execution_count": 40,
   "metadata": {},
   "outputs": [
    {
     "data": {
      "text/plain": [
       "10"
      ]
     },
     "execution_count": 40,
     "metadata": {},
     "output_type": "execute_result"
    }
   ],
   "source": [
    "## Problem 4\n",
    "## Write a function sum_of_integers(a, b) \n",
    "# that takes two integers as input from the user and returns their sum.\n",
    "a = int\n",
    "b = int\n",
    "def sum_of_integers (a,b):\n",
    "    return a+b\n",
    "\n",
    "sum_of_integers(5,5)\n"
   ]
  }
 ],
 "metadata": {
  "kernelspec": {
   "display_name": "Python 3",
   "language": "python",
   "name": "python3"
  },
  "language_info": {
   "codemirror_mode": {
    "name": "ipython",
    "version": 3
   },
   "file_extension": ".py",
   "mimetype": "text/x-python",
   "name": "python",
   "nbconvert_exporter": "python",
   "pygments_lexer": "ipython3",
   "version": "3.12.1"
  }
 },
 "nbformat": 4,
 "nbformat_minor": 2
}
